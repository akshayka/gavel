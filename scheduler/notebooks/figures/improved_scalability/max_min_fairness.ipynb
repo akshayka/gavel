{
 "cells": [
  {
   "cell_type": "markdown",
   "metadata": {},
   "source": [
    "# Max-min fairness"
   ]
  },
  {
   "cell_type": "markdown",
   "metadata": {},
   "source": [
    "In this notebook, we evaluate the impact of splitting larger optimization problems into smaller sub-problems on policy runtime and quality of solution for max-min fairness policies."
   ]
  },
  {
   "cell_type": "markdown",
   "metadata": {},
   "source": [
    "## Import statements"
   ]
  },
  {
   "cell_type": "code",
   "execution_count": 1,
   "metadata": {},
   "outputs": [],
   "source": [
    "import sys; sys.path.append(\"../../..\")\n",
    "from job_id_pair import JobIdPair\n",
    "import utils\n",
    "from plotting_utils import plot_runtimes, plot_effective_throughput_ratios\n",
    "from plotting_utils import plot_runtime_vs_effective_throughput_ratios\n",
    "\n",
    "import copy\n",
    "import numpy as np\n",
    "import random\n",
    "import time\n",
    "\n",
    "np.set_printoptions(precision=3, suppress=True)"
   ]
  },
  {
   "cell_type": "markdown",
   "metadata": {},
   "source": [
    "## Harness that runs a policy with the passed-in number of sub-clusters"
   ]
  },
  {
   "cell_type": "code",
   "execution_count": 2,
   "metadata": {},
   "outputs": [],
   "source": [
    "def create_problem_instance(num_jobs, cluster_spec,\n",
    "                            policy_name,\n",
    "                            seed,\n",
    "                            introduce_skew=False):\n",
    "    oracle_throughputs = utils.read_all_throughputs_json_v2(\"../../../simulation_throughputs.json\")\n",
    "    rng = random.Random()\n",
    "    rng.seed(seed)\n",
    "    jobs = {}\n",
    "    throughputs = {}\n",
    "    scale_factors = {}\n",
    "    priority_weights = {}\n",
    "    for i in range(num_jobs):\n",
    "        job_id = JobIdPair(i, None)\n",
    "        job = utils.generate_job(throughputs=oracle_throughputs,\n",
    "                                 rng=rng, job_id=job_id)\n",
    "        jobs[job_id[0]] = job\n",
    "        job_type_key = (job.job_type, job.scale_factor)\n",
    "        throughputs[job_id] = {}\n",
    "        for worker_type in cluster_spec:\n",
    "            throughputs[job_id][worker_type] = \\\n",
    "                oracle_throughputs[worker_type][job_type_key]['null']\n",
    "        scale_factors[job_id] = 1\n",
    "        if introduce_skew:\n",
    "            priority_weights[job_id] = (i % 4) + 1.0\n",
    "        else:\n",
    "            priority_weights[job_id] = 1.0\n",
    "    if 'pack' in policy_name:\n",
    "        for i in range(num_jobs):\n",
    "            job_type_key = (jobs[i].job_type, jobs[i].scale_factor)\n",
    "            for j in range(num_jobs):\n",
    "                if i < j and jobs[i].scale_factor == jobs[j].scale_factor:\n",
    "                    other_job_type_key = \\\n",
    "                        (jobs[j].job_type, jobs[j].scale_factor)\n",
    "                    throughputs[JobIdPair(i, j)] = {}\n",
    "                    for worker_type in cluster_spec:\n",
    "                        throughputs[JobIdPair(i, j)][worker_type] = \\\n",
    "                            oracle_throughputs[worker_type][job_type_key][other_job_type_key]\n",
    "    return throughputs, scale_factors, priority_weights"
   ]
  },
  {
   "cell_type": "code",
   "execution_count": 3,
   "metadata": {},
   "outputs": [],
   "source": [
    "def harness(policy, throughputs, scale_factors, priority_weights, cluster_spec, num_sub_clusters=1,\n",
    "            random_cluster_assignment=False):\n",
    "    start_time = time.time()\n",
    "    sub_cluster_throughputs = []\n",
    "    sub_cluster_scale_factors = []\n",
    "    sub_cluster_priority_weights = []\n",
    "    job_to_sub_cluster_assignment = {}\n",
    "    job_ids = []\n",
    "    for job_id in throughputs:\n",
    "        if not job_id.is_pair():\n",
    "            job_ids.append(job_id)\n",
    "    for i, job_id in enumerate(job_ids):\n",
    "        if random_cluster_assignment:\n",
    "            job_to_sub_cluster_assignment[job_id[0]] = random.randint(0, num_sub_clusters-1)\n",
    "        else:\n",
    "            job_to_sub_cluster_assignment[job_id[0]] = job_id[0] % num_sub_clusters\n",
    "    for i in range(num_sub_clusters):\n",
    "        sub_cluster_throughputs.append({})\n",
    "        sub_cluster_scale_factors.append({})\n",
    "        sub_cluster_priority_weights.append({})\n",
    "        for job_id in throughputs:\n",
    "            if (job_to_sub_cluster_assignment[job_id[0]] == i) and (\n",
    "                 not job_id.is_pair() or (job_to_sub_cluster_assignment[job_id[1]] == i)):\n",
    "                sub_cluster_throughputs[-1][job_id] = copy.copy(throughputs[job_id])\n",
    "                if not job_id.is_pair():\n",
    "                    sub_cluster_scale_factors[-1][job_id] = scale_factors[job_id]\n",
    "                    sub_cluster_priority_weights[-1][job_id] = priority_weights[job_id]\n",
    "    sub_cluster_cluster_spec = {worker_type: cluster_spec[worker_type] // num_sub_clusters\n",
    "                                for worker_type in cluster_spec}\n",
    "    setup_time = time.time() - start_time\n",
    "    full_allocation = {}\n",
    "    computation_times = []\n",
    "    for i in range(num_sub_clusters):\n",
    "        start_time = time.time()\n",
    "        if policy._name.startswith('MaxMinFairness'):\n",
    "            sub_cluster_allocation = policy.get_allocation(\n",
    "                sub_cluster_throughputs[i], sub_cluster_scale_factors[i],\n",
    "                sub_cluster_priority_weights[i], sub_cluster_cluster_spec)\n",
    "        else:\n",
    "            sub_cluster_allocation = policy.get_allocation(\n",
    "                sub_cluster_throughputs[i], sub_cluster_scale_factors[i],\n",
    "                sub_cluster_cluster_spec)\n",
    "        for job_id in sub_cluster_allocation:\n",
    "            full_allocation[job_id] = sub_cluster_allocation[job_id]\n",
    "        computation_times.append(time.time() - start_time)\n",
    "    return full_allocation, setup_time + max(computation_times)"
   ]
  },
  {
   "cell_type": "code",
   "execution_count": 4,
   "metadata": {},
   "outputs": [],
   "source": [
    "def sweep(policy_names_and_num_sub_clusters,\n",
    "          all_num_jobs,\n",
    "          num_trials, introduce_skew=False, solver='ECOS'):\n",
    "    all_runtimes = {}\n",
    "    all_effective_throughputs = {}\n",
    "    for num_jobs in all_num_jobs:\n",
    "        all_runtimes[num_jobs] = []\n",
    "        all_effective_throughputs[num_jobs] = []\n",
    "        cluster_spec = {\n",
    "            'v100': max(num_jobs // 4, 1),\n",
    "            'p100': max(num_jobs // 4, 1),\n",
    "            'k80': max(num_jobs // 4, 1),\n",
    "        }\n",
    "        for i in range(num_trials):\n",
    "            throughputs, scale_factors, priority_weights = \\\n",
    "                create_problem_instance(num_jobs, cluster_spec,\n",
    "                                        policy_names_and_num_sub_clusters[0][0], seed=i,\n",
    "                                        introduce_skew=introduce_skew)\n",
    "            all_runtimes[num_jobs].append([])\n",
    "            allocations = []\n",
    "            for (policy_name, num_sub_clusters) in policy_names_and_num_sub_clusters:\n",
    "                policy = utils.get_policy(policy_name, solver=solver)\n",
    "                allocation, runtime = harness(\n",
    "                    policy, throughputs,\n",
    "                    scale_factors,\n",
    "                    priority_weights,\n",
    "                    cluster_spec,\n",
    "                    num_sub_clusters=num_sub_clusters)\n",
    "                all_runtimes[num_jobs][-1].append(runtime)\n",
    "                allocations.append(allocation)\n",
    "\n",
    "            all_effective_throughputs[num_jobs].append([])\n",
    "            for allocation in allocations:\n",
    "                effective_throughputs = {}\n",
    "                for job_id in allocation:\n",
    "                    for single_job_id in job_id.singletons():\n",
    "                        if single_job_id not in effective_throughputs:\n",
    "                            effective_throughputs[single_job_id] = 0.0\n",
    "                    for worker_type in allocation[job_id]:\n",
    "                        if job_id.is_pair():\n",
    "                            for i, single_job_id in enumerate(job_id.singletons()):\n",
    "                                effective_throughputs[single_job_id] += (\n",
    "                                   allocation[job_id][worker_type] *\n",
    "                                   throughputs[job_id][worker_type][i]\n",
    "                                )\n",
    "                        else:\n",
    "                            effective_throughputs[job_id] += (\n",
    "                                allocation[job_id][worker_type] *\n",
    "                                throughputs[job_id][worker_type])\n",
    "                all_effective_throughputs[num_jobs][-1].append(effective_throughputs)\n",
    "    return all_runtimes, all_effective_throughputs"
   ]
  },
  {
   "cell_type": "markdown",
   "metadata": {},
   "source": [
    "## Effective throughputs and runtimes"
   ]
  },
  {
   "cell_type": "code",
   "execution_count": 5,
   "metadata": {},
   "outputs": [],
   "source": [
    "def get_runtimes_and_effective_throughputs(policy_name, all_num_sub_clusters,\n",
    "                                           num_jobs, introduce_skew=False,\n",
    "                                           solver='ECOS'):\n",
    "    policy_names_and_num_sub_clusters = [\n",
    "        (policy_name, num_sub_clusters)\n",
    "        for num_sub_clusters in all_num_sub_clusters\n",
    "    ]\n",
    "    if not introduce_skew:\n",
    "        policy_names_and_num_sub_clusters.append(\n",
    "            ('gandiva', 1))\n",
    "    all_runtimes, all_effective_throughputs = sweep(\n",
    "        policy_names_and_num_sub_clusters, [num_jobs],\n",
    "        num_trials=1, introduce_skew=introduce_skew, solver=solver)\n",
    "    runtimes = all_runtimes[num_jobs][0]\n",
    "    all_effective_throughputs = all_effective_throughputs[num_jobs][0]\n",
    "    return runtimes, all_effective_throughputs"
   ]
  },
  {
   "cell_type": "code",
   "execution_count": 6,
   "metadata": {},
   "outputs": [
    {
     "name": "stdout",
     "output_type": "stream",
     "text": [
      "Original 1837.2635431289673 1.0 0.0\n",
      "POP-2 173.74952745437622 0.9993083144477002 0.007878515437563764\n",
      "POP-4 24.622868061065674 0.9990209858423391 0.009294896128721591\n",
      "POP-8 4.530709981918335 0.9972380158914118 0.014228200752617187\n",
      "Gandiva 68.3949043750763 0.5257595150336349 0.1640541553053958\n"
     ]
    },
    {
     "data": {
      "image/png": "[encoded data removed]",
      "text/plain": [
       "<Figure size 468x216 with 1 Axes>"
      ]
     },
     "metadata": {},
     "output_type": "display_data"
    }
   ],
   "source": [
    "import ast\n",
    "labels = ['Original', 'POP-2', 'POP-4', 'POP-8', 'Gandiva']\n",
    "all_num_sub_clusters = [1, 2, 4, 8]\n",
    "with open('num_jobs=1024.out', 'r') as f:\n",
    "    runtimes = f.readline().strip()\n",
    "    runtimes = ast.literal_eval(runtimes)\n",
    "    all_effective_throughputs = f.readline().strip()\n",
    "    all_effective_throughputs = ast.literal_eval(all_effective_throughputs)\n",
    "\n",
    "plot_runtime_vs_effective_throughput_ratios(\n",
    "    runtimes, all_effective_throughputs, labels,\n",
    "    draw_arrow=True,\n",
    "    output_filename=\"effective_throughput_ratio_and_runtimes/num_jobs=1024.pdf\")"
   ]
  },
  {
   "cell_type": "code",
   "execution_count": 7,
   "metadata": {
    "scrolled": true
   },
   "outputs": [
    {
     "name": "stdout",
     "output_type": "stream",
     "text": [
      "(32896, 3)\n",
      "256\n",
      "tputs  (65536, 3)\n",
      "indexed vars  (65536, 3)\n",
      "reshaped tputs  (256, 768)\n",
      "getting base constr\n",
      "3\n",
      "(256, 768)\n",
      "\n",
      "\n",
      "Problem\n",
      "  Name                   :                 \n",
      "  Objective sense        : max             \n",
      "  Type                   : LO (linear optimization problem)\n",
      "  Constraints            : 98689           \n",
      "  Cones                  : 0               \n",
      "  Scalar variables       : 99203           \n",
      "  Matrix variables       : 0               \n",
      "  Integer variables      : 0               \n",
      "\n",
      "Optimizer started.\n",
      "Problem\n",
      "  Name                   :                 \n",
      "  Objective sense        : max             \n",
      "  Type                   : LO (linear optimization problem)\n",
      "  Constraints            : 98689           \n",
      "  Cones                  : 0               \n",
      "  Scalar variables       : 99203           \n",
      "  Matrix variables       : 0               \n",
      "  Integer variables      : 0               \n",
      "\n",
      "Optimizer  - threads                : 4               \n",
      "Optimizer  - solved problem         : the dual        \n",
      "Optimizer  - Constraints            : 515\n",
      "Optimizer  - Cones                  : 0\n",
      "Optimizer  - Scalar variables       : 92802             conic                  : 0               \n",
      "Optimizer  - Semi-definite variables: 0                 scalarized             : 0               \n",
      "Factor     - setup time             : 0.05              dense det. time        : 0.00            \n",
      "Factor     - ML order time          : 0.00              GP order time          : 0.00            \n",
      "Factor     - nonzeros before factor : 1.10e+05          after factor           : 1.18e+05        \n",
      "Factor     - dense dim.             : 0                 flops                  : 3.70e+07        \n",
      "ITE PFEAS    DFEAS    GFEAS    PRSTATUS   POBJ              DOBJ              MU       TIME  \n",
      "0   1.1e+01  3.6e+05  1.1e+01  0.00e+00   0.000000000e+00   0.000000000e+00   1.3e+02  0.20  \n",
      "1   1.1e+01  3.4e+05  1.1e+01  2.26e+01   -1.232850325e-01  5.151110312e-01   1.2e+02  0.24  \n",
      "2   7.9e+00  2.5e+05  7.9e+00  3.48e+01   7.093216468e-01   1.017860007e+00   9.0e+01  0.26  \n",
      "3   7.8e+00  2.5e+05  7.8e+00  4.40e+01   7.462553784e-03   1.778871607e-01   8.9e+01  0.29  \n",
      "4   7.5e+00  2.4e+05  7.5e+00  3.83e+01   -4.584141579e-01  -3.850769994e-01  8.6e+01  0.32  \n",
      "5   5.4e+00  1.7e+05  5.4e+00  2.33e+01   -9.629797328e-01  -9.558660211e-01  6.2e+01  0.36  \n",
      "6   4.9e+00  1.6e+05  4.9e+00  4.64e+00   -9.785322065e-01  -9.737158514e-01  5.6e+01  0.40  \n",
      "7   2.0e+00  6.3e+04  2.0e+00  3.80e+00   -1.060699882e+00  -1.060777440e+00  2.2e+01  0.43  \n",
      "8   9.4e-01  3.0e+04  9.4e-01  1.62e+00   -1.096732756e+00  -1.096840192e+00  1.1e+01  0.46  \n",
      "9   4.1e-01  1.3e+04  4.1e-01  1.24e+00   -1.126247551e+00  -1.126274614e+00  4.7e+00  0.50  \n",
      "10  2.2e-01  6.9e+03  2.2e-01  1.10e+00   -1.137368977e+00  -1.137370534e+00  2.5e+00  0.53  \n",
      "11  4.9e-02  1.6e+03  4.9e-02  1.04e+00   -1.148526685e+00  -1.148518481e+00  5.5e-01  0.57  \n",
      "12  2.7e-02  8.8e+02  2.7e-02  1.01e+00   -1.149640535e+00  -1.149634848e+00  3.1e-01  0.60  \n",
      "13  1.1e-02  3.6e+02  1.1e-02  1.00e+00   -1.150660682e+00  -1.150657581e+00  1.3e-01  0.62  \n",
      "14  2.3e-03  7.5e+01  2.3e-03  1.00e+00   -1.151239577e+00  -1.151238720e+00  2.7e-02  0.65  \n",
      "15  5.7e-04  1.8e+01  5.7e-04  1.00e+00   -1.151365147e+00  -1.151364910e+00  6.5e-03  0.67  \n",
      "16  7.8e-05  2.5e+00  7.8e-05  1.00e+00   -1.151404318e+00  -1.151404277e+00  8.8e-04  0.71  \n",
      "17  3.1e-05  1.0e+00  3.1e-05  1.00e+00   -1.151408313e+00  -1.151408296e+00  3.5e-04  0.74  \n",
      "18  2.4e-06  7.6e-02  2.0e-06  1.00e+00   -1.151410902e+00  -1.151410901e+00  2.7e-05  0.76  \n",
      "19  2.4e-06  7.6e-02  2.0e-06  1.00e+00   -1.151410902e+00  -1.151410901e+00  2.7e-05  0.78  \n",
      "20  3.4e-07  1.0e-02  2.7e-07  1.00e+00   -1.151411112e+00  -1.151411112e+00  3.6e-06  0.83  \n",
      "21  1.5e-08  3.0e-04  8.1e-09  1.00e+00   -1.151411144e+00  -1.151411144e+00  1.1e-07  0.89  \n",
      "Optimizer terminated. Time: 0.93    \n",
      "\n",
      "\n",
      "Interior-point solution summary\n",
      "  Problem status  : PRIMAL_AND_DUAL_FEASIBLE\n",
      "  Solution status : OPTIMAL\n",
      "  Primal.  obj: -1.1514111443e+00   nrm: 1e+00    Viol.  con: 1e-11    var: 6e-12  \n",
      "  Dual.    obj: -1.1514111443e+00   nrm: 2e+01    Viol.  con: 0e+00    var: 2e-07  \n",
      "TOTAL TIME  1.6927242279052734\n",
      "VALUE  1.1514111443156574\n",
      "Original 2.2883095741271973 1.0 0.0\n",
      "POP-2 0.9760072231292725 26275830.777533073 72846102.62483367\n"
     ]
    },
    {
     "data": {
      "image/png": "[encoded data removed]",
      "text/plain": [
       "<Figure size 468x216 with 1 Axes>"
      ]
     },
     "metadata": {},
     "output_type": "display_data"
    }
   ],
   "source": [
    "labels = ['Original', 'POP-2', 'POP-4', 'POP-8', 'Gandiva']\n",
    "#all_num_sub_clusters = [1, 2, 4, 8]\n",
    "all_num_sub_clusters = [1]\n",
    "\n",
    "import cvxpy as cp\n",
    "runtimes, all_effective_throughputs = \\\n",
    "    get_runtimes_and_effective_throughputs('max_min_fairness_packed',\n",
    "                                           all_num_sub_clusters,\n",
    "                                           256, solver='MOSEK')\n",
    "\n",
    "plot_runtime_vs_effective_throughput_ratios(\n",
    "    runtimes, all_effective_throughputs, labels,\n",
    "    output_filename=\"effective_throughput_ratio_and_runtimes/num_jobs=256.pdf\")"
   ]
  },
  {
   "cell_type": "code",
   "execution_count": null,
   "metadata": {},
   "outputs": [],
   "source": [
    "labels = ['Original', 'POP-2', 'POP-4', 'POP-8', 'Gandiva']\n",
    "all_num_sub_clusters = [1, 2, 4, 8]\n",
    "runtimes, all_effective_throughputs = \\\n",
    "    get_runtimes_and_effective_throughputs('max_min_fairness_packed',\n",
    "                                           all_num_sub_clusters,\n",
    "                                           256,\n",
    "                                           introduce_skew=True)\n",
    "plot_runtime_vs_effective_throughput_ratios(\n",
    "    runtimes, all_effective_throughputs, labels,\n",
    "    output_filename=\"effective_throughput_ratio_and_runtimes/skewed_num_jobs=256.pdf\")"
   ]
  },
  {
   "cell_type": "code",
   "execution_count": null,
   "metadata": {},
   "outputs": [],
   "source": [
    "labels = ['Original', 'POP-2', 'POP-4', 'POP-8', 'Gandiva']\n",
    "all_num_sub_clusters = [1, 2, 4, 8]\n",
    "runtimes, all_effective_throughputs = \\\n",
    "    get_runtimes_and_effective_throughputs('max_min_fairness_packed',\n",
    "                                           all_num_sub_clusters,\n",
    "                                           512)\n",
    "plot_runtime_vs_effective_throughput_ratios(\n",
    "    runtimes, all_effective_throughputs, labels,\n",
    "    output_filename=\"effective_throughput_ratio_and_runtimes/num_jobs=512.pdf\")"
   ]
  },
  {
   "cell_type": "code",
   "execution_count": null,
   "metadata": {},
   "outputs": [],
   "source": [
    "labels = ['Original', 'POP-2', 'POP-4', 'POP-8', 'Gandiva']\n",
    "all_num_sub_clusters = [1, 2, 4, 8]\n",
    "runtimes, all_effective_throughputs = \\\n",
    "    get_runtimes_and_effective_throughputs('max_min_fairness_packed',\n",
    "                                           all_num_sub_clusters,\n",
    "                                           512,\n",
    "                                           introduce_skew=True)\n",
    "plot_runtime_vs_effective_throughput_ratios(\n",
    "    runtimes, all_effective_throughputs, labels,\n",
    "    output_filename=\"effective_throughput_ratio_and_runtimes/skewed_num_jobs=512.pdf\")"
   ]
  },
  {
   "cell_type": "markdown",
   "metadata": {},
   "source": [
    "## Runtimes"
   ]
  },
  {
   "cell_type": "code",
   "execution_count": 10,
   "metadata": {},
   "outputs": [],
   "source": [
    "def get_runtimes(policy_name, all_num_jobs, introduce_skew=False):\n",
    "    data = {\n",
    "        'policy': [],\n",
    "        'num_jobs': [],\n",
    "        'runtimes': []\n",
    "    }\n",
    "    all_num_sub_clusters = [1, 4, 16]\n",
    "    policy_names_and_num_sub_clusters = [\n",
    "        (policy_name, num_sub_clusters)\n",
    "        for num_sub_clusters in all_num_sub_clusters\n",
    "    ]\n",
    "    policy_labels = ['Vanilla', '4 sub-clusters', '16 sub-clusters']\n",
    "    all_runtimes, _ = sweep(policy_names_and_num_sub_clusters,\n",
    "                            all_num_jobs,\n",
    "                            num_trials=1,\n",
    "                            introduce_skew=introduce_skew)\n",
    "    for num_jobs in all_runtimes:\n",
    "        for i in range(len(all_runtimes[num_jobs])):\n",
    "            for (policy_label, runtime) in zip(\n",
    "                policy_labels, all_runtimes[num_jobs][i]):\n",
    "                data['policy'].append(policy_label)\n",
    "                data['num_jobs'].append(num_jobs)\n",
    "                data['runtimes'].append(runtime)\n",
    "    return data"
   ]
  },
  {
   "cell_type": "code",
   "execution_count": 13,
   "metadata": {
    "scrolled": false
   },
   "outputs": [
    {
     "name": "stdout",
     "output_type": "stream",
     "text": [
      "Failure:Interrupted\n"
     ]
    },
    {
     "ename": "SolverError",
     "evalue": "Solver 'SCS' failed. Try another solver, or solve with verbose=True for more information.",
     "output_type": "error",
     "traceback": [
      "\u001b[0;31m---------------------------------------------------------------------------\u001b[0m",
      "\u001b[0;31mSolverError\u001b[0m                               Traceback (most recent call last)",
      "\u001b[0;32m<ipython-input-13-7e3588ed1a9c>\u001b[0m in \u001b[0;36m<module>\u001b[0;34m\u001b[0m\n\u001b[1;32m      4\u001b[0m \u001b[0myticks\u001b[0m \u001b[0;34m=\u001b[0m \u001b[0;34m[\u001b[0m\u001b[0;36m2\u001b[0m\u001b[0;34m**\u001b[0m\u001b[0;34m-\u001b[0m\u001b[0;36m8\u001b[0m\u001b[0;34m,\u001b[0m \u001b[0;36m2\u001b[0m\u001b[0;34m**\u001b[0m\u001b[0;34m-\u001b[0m\u001b[0;36m5\u001b[0m\u001b[0;34m,\u001b[0m \u001b[0;36m2\u001b[0m\u001b[0;34m**\u001b[0m\u001b[0;34m-\u001b[0m\u001b[0;36m2\u001b[0m\u001b[0;34m,\u001b[0m \u001b[0;36m2\u001b[0m\u001b[0;34m**\u001b[0m\u001b[0;36m1\u001b[0m\u001b[0;34m,\u001b[0m \u001b[0;36m2\u001b[0m\u001b[0;34m**\u001b[0m\u001b[0;36m4\u001b[0m\u001b[0;34m,\u001b[0m \u001b[0;36m2\u001b[0m\u001b[0;34m**\u001b[0m\u001b[0;36m7\u001b[0m\u001b[0;34m]\u001b[0m\u001b[0;34m\u001b[0m\u001b[0;34m\u001b[0m\u001b[0m\n\u001b[1;32m      5\u001b[0m \u001b[0myticklabels\u001b[0m \u001b[0;34m=\u001b[0m \u001b[0;34m[\u001b[0m\u001b[0;36m0.004\u001b[0m\u001b[0;34m,\u001b[0m \u001b[0;36m0.031\u001b[0m\u001b[0;34m,\u001b[0m \u001b[0;36m0.25\u001b[0m\u001b[0;34m,\u001b[0m \u001b[0;36m2\u001b[0m\u001b[0;34m,\u001b[0m \u001b[0;36m16\u001b[0m\u001b[0;34m,\u001b[0m \u001b[0;36m128\u001b[0m\u001b[0;34m]\u001b[0m\u001b[0;34m\u001b[0m\u001b[0;34m\u001b[0m\u001b[0m\n\u001b[0;32m----> 6\u001b[0;31m plot_runtimes(get_runtimes('max_min_fairness_perf',\n\u001b[0m\u001b[1;32m      7\u001b[0m                            \u001b[0mall_num_jobs\u001b[0m\u001b[0;34m=\u001b[0m\u001b[0mall_num_jobs\u001b[0m\u001b[0;34m,\u001b[0m\u001b[0;34m\u001b[0m\u001b[0;34m\u001b[0m\u001b[0m\n\u001b[1;32m      8\u001b[0m                            introduce_skew=False),\n",
      "\u001b[0;32m<ipython-input-10-e88993e21275>\u001b[0m in \u001b[0;36mget_runtimes\u001b[0;34m(policy_name, all_num_jobs, introduce_skew)\u001b[0m\n\u001b[1;32m     11\u001b[0m     ]\n\u001b[1;32m     12\u001b[0m     \u001b[0mpolicy_labels\u001b[0m \u001b[0;34m=\u001b[0m \u001b[0;34m[\u001b[0m\u001b[0;34m'Vanilla'\u001b[0m\u001b[0;34m,\u001b[0m \u001b[0;34m'4 sub-clusters'\u001b[0m\u001b[0;34m,\u001b[0m \u001b[0;34m'16 sub-clusters'\u001b[0m\u001b[0;34m]\u001b[0m\u001b[0;34m\u001b[0m\u001b[0;34m\u001b[0m\u001b[0m\n\u001b[0;32m---> 13\u001b[0;31m     all_runtimes, _ = sweep(policy_names_and_num_sub_clusters,\n\u001b[0m\u001b[1;32m     14\u001b[0m                             \u001b[0mall_num_jobs\u001b[0m\u001b[0;34m,\u001b[0m\u001b[0;34m\u001b[0m\u001b[0;34m\u001b[0m\u001b[0m\n\u001b[1;32m     15\u001b[0m                             \u001b[0mnum_trials\u001b[0m\u001b[0;34m=\u001b[0m\u001b[0;36m1\u001b[0m\u001b[0;34m,\u001b[0m\u001b[0;34m\u001b[0m\u001b[0;34m\u001b[0m\u001b[0m\n",
      "\u001b[0;32m<ipython-input-4-9e3137e14f4f>\u001b[0m in \u001b[0;36msweep\u001b[0;34m(policy_names_and_num_sub_clusters, all_num_jobs, num_trials, introduce_skew, solver)\u001b[0m\n\u001b[1;32m     21\u001b[0m             \u001b[0;32mfor\u001b[0m \u001b[0;34m(\u001b[0m\u001b[0mpolicy_name\u001b[0m\u001b[0;34m,\u001b[0m \u001b[0mnum_sub_clusters\u001b[0m\u001b[0;34m)\u001b[0m \u001b[0;32min\u001b[0m \u001b[0mpolicy_names_and_num_sub_clusters\u001b[0m\u001b[0;34m:\u001b[0m\u001b[0;34m\u001b[0m\u001b[0;34m\u001b[0m\u001b[0m\n\u001b[1;32m     22\u001b[0m                 \u001b[0mpolicy\u001b[0m \u001b[0;34m=\u001b[0m \u001b[0mutils\u001b[0m\u001b[0;34m.\u001b[0m\u001b[0mget_policy\u001b[0m\u001b[0;34m(\u001b[0m\u001b[0mpolicy_name\u001b[0m\u001b[0;34m,\u001b[0m \u001b[0msolver\u001b[0m\u001b[0;34m=\u001b[0m\u001b[0;34m'SCS'\u001b[0m\u001b[0;34m)\u001b[0m\u001b[0;34m\u001b[0m\u001b[0;34m\u001b[0m\u001b[0m\n\u001b[0;32m---> 23\u001b[0;31m                 allocation, runtime = harness(\n\u001b[0m\u001b[1;32m     24\u001b[0m                     \u001b[0mpolicy\u001b[0m\u001b[0;34m,\u001b[0m \u001b[0mthroughputs\u001b[0m\u001b[0;34m,\u001b[0m\u001b[0;34m\u001b[0m\u001b[0;34m\u001b[0m\u001b[0m\n\u001b[1;32m     25\u001b[0m                     \u001b[0mscale_factors\u001b[0m\u001b[0;34m,\u001b[0m\u001b[0;34m\u001b[0m\u001b[0;34m\u001b[0m\u001b[0m\n",
      "\u001b[0;32m<ipython-input-3-44da8d58783f>\u001b[0m in \u001b[0;36mharness\u001b[0;34m(policy, throughputs, scale_factors, priority_weights, cluster_spec, num_sub_clusters, random_cluster_assignment)\u001b[0m\n\u001b[1;32m     34\u001b[0m         \u001b[0mstart_time\u001b[0m \u001b[0;34m=\u001b[0m \u001b[0mtime\u001b[0m\u001b[0;34m.\u001b[0m\u001b[0mtime\u001b[0m\u001b[0;34m(\u001b[0m\u001b[0;34m)\u001b[0m\u001b[0;34m\u001b[0m\u001b[0;34m\u001b[0m\u001b[0m\n\u001b[1;32m     35\u001b[0m         \u001b[0;32mif\u001b[0m \u001b[0mpolicy\u001b[0m\u001b[0;34m.\u001b[0m\u001b[0m_name\u001b[0m\u001b[0;34m.\u001b[0m\u001b[0mstartswith\u001b[0m\u001b[0;34m(\u001b[0m\u001b[0;34m'MaxMinFairness'\u001b[0m\u001b[0;34m)\u001b[0m\u001b[0;34m:\u001b[0m\u001b[0;34m\u001b[0m\u001b[0;34m\u001b[0m\u001b[0m\n\u001b[0;32m---> 36\u001b[0;31m             sub_cluster_allocation = policy.get_allocation(\n\u001b[0m\u001b[1;32m     37\u001b[0m                 \u001b[0msub_cluster_throughputs\u001b[0m\u001b[0;34m[\u001b[0m\u001b[0mi\u001b[0m\u001b[0;34m]\u001b[0m\u001b[0;34m,\u001b[0m \u001b[0msub_cluster_scale_factors\u001b[0m\u001b[0;34m[\u001b[0m\u001b[0mi\u001b[0m\u001b[0;34m]\u001b[0m\u001b[0;34m,\u001b[0m\u001b[0;34m\u001b[0m\u001b[0;34m\u001b[0m\u001b[0m\n\u001b[1;32m     38\u001b[0m                 sub_cluster_priority_weights[i], sub_cluster_cluster_spec)\n",
      "\u001b[0;32m~/src/gavel/scheduler/policies/max_min_fairness.py\u001b[0m in \u001b[0;36mget_allocation\u001b[0;34m(self, unflattened_throughputs, scale_factors, unflattened_priority_weights, cluster_spec)\u001b[0m\n\u001b[1;32m     74\u001b[0m         \u001b[0mconstraints\u001b[0m \u001b[0;34m=\u001b[0m \u001b[0mself\u001b[0m\u001b[0;34m.\u001b[0m\u001b[0mget_base_constraints\u001b[0m\u001b[0;34m(\u001b[0m\u001b[0mx\u001b[0m\u001b[0;34m,\u001b[0m \u001b[0mscale_factors_array\u001b[0m\u001b[0;34m)\u001b[0m\u001b[0;34m\u001b[0m\u001b[0;34m\u001b[0m\u001b[0m\n\u001b[1;32m     75\u001b[0m         \u001b[0mcvxprob\u001b[0m \u001b[0;34m=\u001b[0m \u001b[0mcp\u001b[0m\u001b[0;34m.\u001b[0m\u001b[0mProblem\u001b[0m\u001b[0;34m(\u001b[0m\u001b[0mobjective\u001b[0m\u001b[0;34m,\u001b[0m \u001b[0mconstraints\u001b[0m\u001b[0;34m)\u001b[0m\u001b[0;34m\u001b[0m\u001b[0;34m\u001b[0m\u001b[0m\n\u001b[0;32m---> 76\u001b[0;31m         \u001b[0mresult\u001b[0m \u001b[0;34m=\u001b[0m \u001b[0mcvxprob\u001b[0m\u001b[0;34m.\u001b[0m\u001b[0msolve\u001b[0m\u001b[0;34m(\u001b[0m\u001b[0msolver\u001b[0m\u001b[0;34m=\u001b[0m\u001b[0mself\u001b[0m\u001b[0;34m.\u001b[0m\u001b[0m_solver\u001b[0m\u001b[0;34m)\u001b[0m\u001b[0;34m\u001b[0m\u001b[0;34m\u001b[0m\u001b[0m\n\u001b[0m\u001b[1;32m     77\u001b[0m \u001b[0;34m\u001b[0m\u001b[0m\n\u001b[1;32m     78\u001b[0m         \u001b[0;32mif\u001b[0m \u001b[0mcvxprob\u001b[0m\u001b[0;34m.\u001b[0m\u001b[0mstatus\u001b[0m \u001b[0;34m!=\u001b[0m \u001b[0;34m\"optimal\"\u001b[0m\u001b[0;34m:\u001b[0m\u001b[0;34m\u001b[0m\u001b[0;34m\u001b[0m\u001b[0m\n",
      "\u001b[0;32m~/envs/playground/lib/python3.8/site-packages/cvxpy/problems/problem.py\u001b[0m in \u001b[0;36msolve\u001b[0;34m(self, *args, **kwargs)\u001b[0m\n\u001b[1;32m    399\u001b[0m         \u001b[0;32melse\u001b[0m\u001b[0;34m:\u001b[0m\u001b[0;34m\u001b[0m\u001b[0;34m\u001b[0m\u001b[0m\n\u001b[1;32m    400\u001b[0m             \u001b[0msolve_func\u001b[0m \u001b[0;34m=\u001b[0m \u001b[0mProblem\u001b[0m\u001b[0;34m.\u001b[0m\u001b[0m_solve\u001b[0m\u001b[0;34m\u001b[0m\u001b[0;34m\u001b[0m\u001b[0m\n\u001b[0;32m--> 401\u001b[0;31m         \u001b[0;32mreturn\u001b[0m \u001b[0msolve_func\u001b[0m\u001b[0;34m(\u001b[0m\u001b[0mself\u001b[0m\u001b[0;34m,\u001b[0m \u001b[0;34m*\u001b[0m\u001b[0margs\u001b[0m\u001b[0;34m,\u001b[0m \u001b[0;34m**\u001b[0m\u001b[0mkwargs\u001b[0m\u001b[0;34m)\u001b[0m\u001b[0;34m\u001b[0m\u001b[0;34m\u001b[0m\u001b[0m\n\u001b[0m\u001b[1;32m    402\u001b[0m \u001b[0;34m\u001b[0m\u001b[0m\n\u001b[1;32m    403\u001b[0m     \u001b[0;34m@\u001b[0m\u001b[0mclassmethod\u001b[0m\u001b[0;34m\u001b[0m\u001b[0;34m\u001b[0m\u001b[0m\n",
      "\u001b[0;32m~/envs/playground/lib/python3.8/site-packages/cvxpy/problems/problem.py\u001b[0m in \u001b[0;36m_solve\u001b[0;34m(self, solver, warm_start, verbose, gp, qcp, requires_grad, enforce_dpp, **kwargs)\u001b[0m\n\u001b[1;32m    817\u001b[0m         solution = solving_chain.solve_via_data(\n\u001b[1;32m    818\u001b[0m             self, data, warm_start, verbose, kwargs)\n\u001b[0;32m--> 819\u001b[0;31m         \u001b[0mself\u001b[0m\u001b[0;34m.\u001b[0m\u001b[0munpack_results\u001b[0m\u001b[0;34m(\u001b[0m\u001b[0msolution\u001b[0m\u001b[0;34m,\u001b[0m \u001b[0msolving_chain\u001b[0m\u001b[0;34m,\u001b[0m \u001b[0minverse_data\u001b[0m\u001b[0;34m)\u001b[0m\u001b[0;34m\u001b[0m\u001b[0;34m\u001b[0m\u001b[0m\n\u001b[0m\u001b[1;32m    820\u001b[0m         \u001b[0;32mreturn\u001b[0m \u001b[0mself\u001b[0m\u001b[0;34m.\u001b[0m\u001b[0mvalue\u001b[0m\u001b[0;34m\u001b[0m\u001b[0;34m\u001b[0m\u001b[0m\n\u001b[1;32m    821\u001b[0m \u001b[0;34m\u001b[0m\u001b[0m\n",
      "\u001b[0;32m~/envs/playground/lib/python3.8/site-packages/cvxpy/problems/problem.py\u001b[0m in \u001b[0;36munpack_results\u001b[0;34m(self, solution, chain, inverse_data)\u001b[0m\n\u001b[1;32m   1129\u001b[0m             )\n\u001b[1;32m   1130\u001b[0m         \u001b[0;32mif\u001b[0m \u001b[0msolution\u001b[0m\u001b[0;34m.\u001b[0m\u001b[0mstatus\u001b[0m \u001b[0;32min\u001b[0m \u001b[0ms\u001b[0m\u001b[0;34m.\u001b[0m\u001b[0mERROR\u001b[0m\u001b[0;34m:\u001b[0m\u001b[0;34m\u001b[0m\u001b[0;34m\u001b[0m\u001b[0m\n\u001b[0;32m-> 1131\u001b[0;31m             raise error.SolverError(\n\u001b[0m\u001b[1;32m   1132\u001b[0m                     \u001b[0;34m\"Solver '%s' failed. \"\u001b[0m \u001b[0;34m%\u001b[0m \u001b[0mchain\u001b[0m\u001b[0;34m.\u001b[0m\u001b[0msolver\u001b[0m\u001b[0;34m.\u001b[0m\u001b[0mname\u001b[0m\u001b[0;34m(\u001b[0m\u001b[0;34m)\u001b[0m \u001b[0;34m+\u001b[0m\u001b[0;34m\u001b[0m\u001b[0;34m\u001b[0m\u001b[0m\n\u001b[1;32m   1133\u001b[0m                     \u001b[0;34m\"Try another solver, or solve with verbose=True for more \"\u001b[0m\u001b[0;34m\u001b[0m\u001b[0;34m\u001b[0m\u001b[0m\n",
      "\u001b[0;31mSolverError\u001b[0m: Solver 'SCS' failed. Try another solver, or solve with verbose=True for more information."
     ]
    }
   ],
   "source": [
    "all_num_jobs = [64, 128, 256, 512, 1024, 2048,\n",
    "                4096, 8192, 16384, 32768]\n",
    "xticks = [64, 512, 4096, 32768]\n",
    "yticks = [2**-8, 2**-5, 2**-2, 2**1, 2**4, 2**7]\n",
    "yticklabels = [0.004, 0.031, 0.25, 2, 16, 128]\n",
    "plot_runtimes(get_runtimes('max_min_fairness_perf',\n",
    "                           all_num_jobs=all_num_jobs,\n",
    "                           introduce_skew=False),\n",
    "              xticks=xticks, yticks=yticks,\n",
    "              yticklabels=yticklabels,\n",
    "              output_filename=\"runtimes/max_min_fairness_perf.pdf\")\n",
    "plot_runtimes(get_runtimes('max_min_fairness_perf',\n",
    "                           all_num_jobs=all_num_jobs,\n",
    "                           introduce_skew=True),\n",
    "              xticks=xticks, yticks=yticks,\n",
    "              yticklabels=yticklabels)"
   ]
  },
  {
   "cell_type": "code",
   "execution_count": null,
   "metadata": {},
   "outputs": [],
   "source": [
    "# TODO: Increase to 1024.\n",
    "all_num_jobs=[64, 128, 256, 512]\n",
    "xticks = [64, 128, 256, 512]\n",
    "yticks = [2**-5, 2**-2, 2**1, 2**4, 2**7]\n",
    "yticklabels = [0.031, 0.25, 2, 16, 128]\n",
    "plot_runtimes(get_runtimes('max_min_fairness_packed',\n",
    "                           all_num_jobs=all_num_jobs,\n",
    "                           introduce_skew=False),\n",
    "              xticks=xticks, yticks=yticks,\n",
    "              yticklabels=yticklabels,\n",
    "              output_filename=\"runtimes/max_min_fairness_packed.pdf\")\n",
    "plot_runtimes(get_runtimes('max_min_fairness_packed',\n",
    "                           all_num_jobs=all_num_jobs,\n",
    "                           introduce_skew=True),\n",
    "              xticks=xticks, yticks=yticks,\n",
    "              yticklabels=yticklabels)"
   ]
  },
  {
   "cell_type": "markdown",
   "metadata": {},
   "source": [
    "## Effective throughput ratios"
   ]
  },
  {
   "cell_type": "code",
   "execution_count": null,
   "metadata": {},
   "outputs": [],
   "source": [
    "def get_effective_throughput_ratios(policy_name, num_jobs, introduce_skew=False,\n",
    "                                    random_cluster_assignment=False):\n",
    "    random.seed(42)\n",
    "    all_num_sub_clusters = [1, 4, 16]\n",
    "    policy_names_and_num_sub_clusters = [\n",
    "        (policy_name, num_sub_clusters)\n",
    "        for num_sub_clusters in all_num_sub_clusters\n",
    "    ]\n",
    "    _, all_effective_throughputs = sweep(\n",
    "        policy_names_and_num_sub_clusters,\n",
    "        [num_jobs],\n",
    "        num_trials=1,\n",
    "        introduce_skew=introduce_skew)\n",
    "    return all_effective_throughputs[num_jobs][0]"
   ]
  },
  {
   "cell_type": "code",
   "execution_count": null,
   "metadata": {},
   "outputs": [],
   "source": [
    "print(\"No skew\")\n",
    "plot_effective_throughput_ratios(\n",
    "    get_effective_throughput_ratios(\n",
    "        'max_min_fairness_perf', 64),\n",
    "    output_filename=\"effective_throughput_ratios/max_min_fairness_perf.pdf\")\n",
    "plot_effective_throughput_ratios(\n",
    "    get_effective_throughput_ratios(\n",
    "        'max_min_fairness_perf', 64),\n",
    "    cdf=True,\n",
    "    output_filename=\"effective_throughput_ratios/max_min_fairness_perf_cdf.pdf\")\n",
    "print(\"Skew and round-robin placement\")\n",
    "plot_effective_throughput_ratios(\n",
    "    get_effective_throughput_ratios(\n",
    "        'max_min_fairness_perf', 64,\n",
    "        introduce_skew=True),\n",
    "    output_filename=\"effective_throughput_ratios/max_min_fairness_perf_skewed.pdf\")\n",
    "plot_effective_throughput_ratios(\n",
    "    get_effective_throughput_ratios('max_min_fairness_perf', 64,\n",
    "                                    introduce_skew=True),\n",
    "    cdf=True,\n",
    "    output_filename=\"effective_throughput_ratios/max_min_fairness_perf_skewed_cdf.pdf\")\n",
    "print(\"Skew and random placement\")\n",
    "plot_effective_throughput_ratios(\n",
    "    get_effective_throughput_ratios('max_min_fairness_perf', 64,\n",
    "                                    introduce_skew=True,\n",
    "                                    random_cluster_assignment=True),\n",
    "    output_filename=\"effective_throughput_ratios/max_min_fairness_perf_skewed_random.pdf\")\n",
    "plot_effective_throughput_ratios(\n",
    "    get_effective_throughput_ratios('max_min_fairness_perf', 64,\n",
    "                                    introduce_skew=True,\n",
    "                                    random_cluster_assignment=True),\n",
    "    cdf=True,\n",
    "    output_filename=\"effective_throughput_ratios/max_min_fairness_perf_skewed_random_cdf.pdf\")"
   ]
  },
  {
   "cell_type": "code",
   "execution_count": null,
   "metadata": {},
   "outputs": [],
   "source": [
    "print(\"No skew\")\n",
    "plot_effective_throughput_ratios(\n",
    "    get_effective_throughput_ratios(\n",
    "        'max_min_fairness_packed', 64),\n",
    "    output_filename=\"effective_throughput_ratios/max_min_fairness_packed.pdf\")\n",
    "plot_effective_throughput_ratios(\n",
    "    get_effective_throughput_ratios(\n",
    "        'max_min_fairness_packed', 64),\n",
    "    cdf=True,\n",
    "    output_filename=\"effective_throughput_ratios/max_min_fairness_packed_cdf.pdf\")\n",
    "print(\"Skew and round-robin placement\")\n",
    "plot_effective_throughput_ratios(\n",
    "    get_effective_throughput_ratios(\n",
    "        'max_min_fairness_packed', 64,\n",
    "    introduce_skew=True),\n",
    "    output_filename=\"effective_throughput_ratios/max_min_fairness_packed_skewed.pdf\")\n",
    "plot_effective_throughput_ratios(\n",
    "    get_effective_throughput_ratios(\n",
    "        'max_min_fairness_packed', 64,\n",
    "        introduce_skew=True),\n",
    "    cdf=True,\n",
    "    output_filename=\"effective_throughput_ratios/max_min_fairness_packed_skewed_cdf.pdf\")\n",
    "print(\"Skew and random placement\")\n",
    "plot_effective_throughput_ratios(\n",
    "    get_effective_throughput_ratios(\n",
    "        'max_min_fairness_packed', 64,\n",
    "         introduce_skew=True,\n",
    "    random_cluster_assignment=True),\n",
    "    output_filename=\"effective_throughput_ratios/max_min_fairness_packed_skewed_random.pdf\")\n",
    "plot_effective_throughput_ratios(\n",
    "    get_effective_throughput_ratios(\n",
    "        'max_min_fairness_packed', 64,\n",
    "        introduce_skew=True,\n",
    "        random_cluster_assignment=True),\n",
    "    cdf=True,\n",
    "    output_filename=\"effective_throughput_ratios/max_min_fairness_packed_skewed_random_cdf.pdf\")"
   ]
  }
 ],
 "metadata": {
  "kernelspec": {
   "display_name": "Python 3",
   "language": "python",
   "name": "python3"
  },
  "language_info": {
   "codemirror_mode": {
    "name": "ipython",
    "version": 3
   },
   "file_extension": ".py",
   "mimetype": "text/x-python",
   "name": "python",
   "nbconvert_exporter": "python",
   "pygments_lexer": "ipython3",
   "version": "3.8.6"
  }
 },
 "nbformat": 4,
 "nbformat_minor": 4
}
